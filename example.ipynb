{
 "cells": [
  {
   "cell_type": "code",
   "id": "initial_id",
   "metadata": {
    "collapsed": true,
    "ExecuteTime": {
     "end_time": "2025-01-17T18:23:18.644543Z",
     "start_time": "2025-01-17T18:23:17.607834Z"
    }
   },
   "source": [
    "import pandas as pd\n",
    "\n",
    "from src.algorithms.alternating_least_squares import AlternatingLeastSquares\n",
    "from src.helpers.dataset_indexer import DatasetIndexer\n",
    "from src.helpers.checkpoint_manager import CheckpointManager\n",
    "from src.recommenders import CollaborativeFilteringRecommenderBuilder\n",
    "from src.backends import Backend\n",
    "from src.helpers._logging import logger  # noqa\n",
    "from src.settings import settings\n",
    "from src.utils import vocabulary_based_one_hot_encode, load_pickle, save_pickle\n",
    "\n",
    "from src.helpers.graphing import (\n",
    "    plot_als_train_test_loss_evolution,\n",
    "    plot_als_train_test_rmse_evolution,\n",
    "    # plot_error_evolution,\n",
    "    plot_power_low_distribution,\n",
    "    plot_data_item_distribution_as_hist,\n",
    ")"
   ],
   "outputs": [
    {
     "name": "stdout",
     "output_type": "stream",
     "text": [
      "2025-01-17 20:23:18,206 [DEBUG] matplotlib data path: /home/hjisaac/.cache/pypoetry/virtualenvs/recommender-system-uSlwvUxw-py3.10/lib/python3.10/site-packages/matplotlib/mpl-data\n",
      "2025-01-17 20:23:18,214 [DEBUG] CONFIGDIR=/home/hjisaac/.config/matplotlib\n",
      "2025-01-17 20:23:18,238 [DEBUG] interactive is False\n",
      "2025-01-17 20:23:18,238 [DEBUG] platform is linux\n",
      "2025-01-17 20:23:18,310 [DEBUG] CACHEDIR=/home/hjisaac/.cache/matplotlib\n",
      "2025-01-17 20:23:18,323 [DEBUG] Using fontManager instance from /home/hjisaac/.cache/matplotlib/fontlist-v390.json\n"
     ]
    }
   ],
   "execution_count": 1
  },
  {
   "metadata": {
    "ExecuteTime": {
     "end_time": "2025-01-11T03:33:51.754806Z",
     "start_time": "2025-01-11T03:33:51.750406Z"
    }
   },
   "cell_type": "code",
   "source": [
    "USER_HEADER = \"userId\"\n",
    "ITEM_HEADER = \"movieId\"\n",
    "RATING_HEADER = \"rating\"\n",
    "FEATURE_TO_ENCODE = \"genres\"\n",
    "ITEM_FEATURE_LIST = [\n",
    "    \"Action\",\n",
    "    \"Adventure\",\n",
    "    \"Animation\",\n",
    "    \"Children\",\n",
    "    \"Comedy\",\n",
    "    \"Crime\",\n",
    "    \"Documentary\",\n",
    "    \"Drama\",\n",
    "    \"Fantasy\",\n",
    "    \"Film-Noir\",\n",
    "    \"Horror\",\n",
    "    \"IMAX\",\n",
    "    \"Musical\",\n",
    "    \"Mystery\",\n",
    "    \"Romance\",\n",
    "    \"Sci-Fi\",\n",
    "    \"Thriller\",\n",
    "    \"War\",\n",
    "    \"Western\",\n",
    "]"
   ],
   "id": "c73b36a57e26980e",
   "outputs": [],
   "execution_count": 2
  },
  {
   "cell_type": "code",
   "id": "f514cb70517008ef",
   "metadata": {
    "ExecuteTime": {
     "end_time": "2025-01-11T03:33:51.926760Z",
     "start_time": "2025-01-11T03:33:51.914115Z"
    }
   },
   "source": [
    "dataset_indexer = DatasetIndexer(\n",
    "    file_path=\"./ml-32m/ratings.csv\",\n",
    "    user_header=USER_HEADER,\n",
    "    item_header=ITEM_HEADER,\n",
    "    rating_header=RATING_HEADER,\n",
    "    limit=settings.general.LINES_COUNT_TO_READ,\n",
    ")\n",
    "\n",
    "indexed_data = dataset_indexer.index_simple(\n",
    "    approximate_train_ratio=settings.general.APPROXIMATE_TRAIN_RATIO\n",
    ")"
   ],
   "outputs": [
    {
     "name": "stdout",
     "output_type": "stream",
     "text": [
      "2025-01-11 05:33:51,915 [WARNING] The current implementation does not split the data into train and test sets exactly with the provided ratio. We use the provided ratio as a probability for a Bernoulli distribution to know whether a given data point should be used as a training data or a test data.\n",
      "2025-01-11 05:33:51,924 [WARNING] The limit of lines (.i.e 1000) to index has been reached. Exiting without loading the rest... \n",
      "2025-01-11 05:33:51,924 [INFO] Successfully indexed 1000 lines from ./ml-32m/ratings.csv\n"
     ]
    }
   ],
   "execution_count": 3
  },
  {
   "metadata": {
    "ExecuteTime": {
     "end_time": "2025-01-11T03:33:52.971683Z",
     "start_time": "2025-01-11T03:33:51.966409Z"
    }
   },
   "cell_type": "code",
   "source": [
    "\n",
    "# Import the movies csv file joined with the movie links csv file and that will act\n",
    "# as our movie database. The backend needs this database to query the movies.\n",
    "item_database = (\n",
    "    pd.read_csv(\"./ml-32m/movies.csv\", dtype={ITEM_HEADER: str})\n",
    "    .merge(\n",
    "        pd.read_csv(\"./ml-32m/links.csv\", dtype={ITEM_HEADER: str}),\n",
    "        on=ITEM_HEADER,\n",
    "        how=\"left\",\n",
    "    )\n",
    "    .assign(\n",
    "        genres=lambda df: df[FEATURE_TO_ENCODE].apply(\n",
    "            lambda genres: genres.split(\"|\")\n",
    "        ),\n",
    "        features_hot_encoded=lambda df: df[FEATURE_TO_ENCODE].apply(\n",
    "            lambda g: vocabulary_based_one_hot_encode(\n",
    "                words=g, vocabulary=ITEM_FEATURE_LIST\n",
    "            )\n",
    "        ),\n",
    "        features_count=lambda df: df[\"features_hot_encoded\"].apply(lambda x: sum(x)),\n",
    "    )\n",
    "    .set_index(ITEM_HEADER)  # Set the movieId as the index\n",
    "    .to_dict(orient=\"index\")  # Convert the DataFrame to a dictionary\n",
    ")"
   ],
   "id": "225baff61515191c",
   "outputs": [],
   "execution_count": 4
  },
  {
   "metadata": {
    "ExecuteTime": {
     "end_time": "2025-01-11T03:33:52.992011Z",
     "start_time": "2025-01-11T03:33:52.988567Z"
    }
   },
   "cell_type": "code",
   "source": "# plot_data_item_distribution_as_hist(indexed_data)",
   "id": "92796e4ad51b755c",
   "outputs": [],
   "execution_count": 5
  },
  {
   "metadata": {
    "ExecuteTime": {
     "end_time": "2025-01-11T03:33:53.037009Z",
     "start_time": "2025-01-11T03:33:53.032690Z"
    }
   },
   "cell_type": "code",
   "source": "# plot_power_low_distribution(indexed_data,)",
   "id": "e1b298f3091f98cd",
   "outputs": [],
   "execution_count": 6
  },
  {
   "cell_type": "code",
   "id": "db7f06b057e86e5c",
   "metadata": {
    "ExecuteTime": {
     "end_time": "2025-01-11T03:33:53.086005Z",
     "start_time": "2025-01-11T03:33:53.080886Z"
    }
   },
   "source": [
    "als_instance = AlternatingLeastSquares(\n",
    "    hyper_lambda=settings.als.HYPER_LAMBDA,\n",
    "    hyper_gamma=settings.als.HYPER_GAMMA,\n",
    "    hyper_tau=settings.als.HYPER_TAU,\n",
    "    hyper_n_epochs=settings.als.HYPER_N_EPOCH,\n",
    "    hyper_n_factors=settings.als.HYPER_N_FACTOR,\n",
    ")\n",
    "\n",
    "als_backend = Backend(\n",
    "    # Define the algorithm\n",
    "    algorithm=als_instance,\n",
    "    checkpoint_manager=CheckpointManager(\n",
    "        checkpoint_folder=settings.als.CHECKPOINT_FOLDER,\n",
    "        sub_folder=str(settings.general.LINES_COUNT_TO_READ),\n",
    "    ),\n",
    "    # The predictor needs this to render the name of the items\n",
    "    item_database=item_database,\n",
    "    # Whether we should resume by using the last state of\n",
    "    # the algorithm the checkpoint manager folder or not.\n",
    "    resume=False,\n",
    "    save_checkpoint=True,\n",
    ")"
   ],
   "outputs": [],
   "execution_count": 7
  },
  {
   "metadata": {
    "ExecuteTime": {
     "end_time": "2025-01-11T03:33:53.743470Z",
     "start_time": "2025-01-11T03:33:53.138254Z"
    }
   },
   "cell_type": "code",
   "source": [
    "recommender_builder = CollaborativeFilteringRecommenderBuilder(\n",
    "    backend=als_backend,\n",
    ")\n",
    "\n",
    "# This might take some moment before finishing\n",
    "recommender = recommender_builder.build(\n",
    "    data=indexed_data, item_database=item_database, include_features=True\n",
    ")"
   ],
   "id": "a6088fcc1307ccc4",
   "outputs": [
    {
     "name": "stdout",
     "output_type": "stream",
     "text": [
      "2025-01-11 05:33:53,140 [INFO] Starting the build of the recommender using AlternatingLeastSquares with the state {'hyper_lambda': 0.1, 'hyper_tau': 0.1, 'hyper_gamma': 0.1, 'hyper_n_epochs': 2, 'hyper_n_factors': 10, 'user_factors': None, 'item_factors': None, 'user_biases': None, 'item_biases': None, 'feature_factors': None, 'loss_train': [], 'loss_test': [], 'rmse_train': [], 'rmse_test': []}\n",
      "2025-01-11 05:33:53,142 [INFO] Starting a model fitting using the backend AlternatingLeastSquares...\n",
      "2025-01-11 05:33:53,143 [INFO] Initializing user and item's factors and biases, as none of them is provided.\n",
      "2025-01-11 05:33:53,145 [INFO] About to start training with the `include_features` parameter set to True.\n",
      "2025-01-11 05:33:53,147 [INFO] Epochs count to train for 2, entering the training loop now...\n"
     ]
    },
    {
     "name": "stderr",
     "output_type": "stream",
     "text": [
      "Epochs:  50%|█████     | 1/2 [00:00<00:00,  2.85epoch/s]"
     ]
    },
    {
     "name": "stdout",
     "output_type": "stream",
     "text": [
      "Epoch 1/2 Loss (Train/Test) : -175.4973 / -181.6884, RMSE (Train/Test) : 0.4574 / 1.2136\n"
     ]
    },
    {
     "name": "stderr",
     "output_type": "stream",
     "text": [
      "Epochs: 100%|██████████| 2/2 [00:00<00:00,  3.44epoch/s]"
     ]
    },
    {
     "name": "stdout",
     "output_type": "stream",
     "text": [
      "Epoch 2/2 Loss (Train/Test) : -41.2564 / -51.5987, RMSE (Train/Test) : 0.2485 / 1.1379\n",
      "2025-01-11 05:33:53,736 [INFO] Successfully run AlternatingLeastSquares algorithm running till the end\n",
      "2025-01-11 05:33:53,737 [DEBUG] Cleaning the AlternatingLeastSquares algorithm self maintained cache, and exiting...\n",
      "2025-01-11 05:33:53,739 [INFO] Successfully built the recommender using AlternatingLeastSquares\n"
     ]
    },
    {
     "name": "stderr",
     "output_type": "stream",
     "text": [
      "\n"
     ]
    }
   ],
   "execution_count": 8
  },
  {
   "metadata": {
    "ExecuteTime": {
     "end_time": "2025-01-11T03:33:53.822266Z",
     "start_time": "2025-01-11T03:33:53.819431Z"
    }
   },
   "cell_type": "code",
   "source": "",
   "id": "1c89e59926eb8c2c",
   "outputs": [],
   "execution_count": null
  },
  {
   "metadata": {
    "ExecuteTime": {
     "end_time": "2025-01-11T03:33:53.880648Z",
     "start_time": "2025-01-11T03:33:53.872421Z"
    }
   },
   "cell_type": "code",
   "source": "# plot_als_train_test_rmse_evolution(als_backend.algorithm)",
   "id": "5f7242dc80a5315d",
   "outputs": [],
   "execution_count": 9
  },
  {
   "metadata": {
    "ExecuteTime": {
     "end_time": "2025-01-11T03:33:53.963723Z",
     "start_time": "2025-01-11T03:33:53.954355Z"
    }
   },
   "cell_type": "code",
   "source": "# plot_als_train_test_loss_evolution(als_backend.algorithm)",
   "id": "fb7e870ef3561ce8",
   "outputs": [],
   "execution_count": 10
  },
  {
   "metadata": {
    "ExecuteTime": {
     "end_time": "2025-01-11T03:33:54.027546Z",
     "start_time": "2025-01-11T03:33:54.014021Z"
    }
   },
   "cell_type": "code",
   "source": [
    "#\n",
    "prediction_input = [(\"17\", 4)]\n",
    "recommender.recommend(prediction_input)"
   ],
   "id": "cef422cfbcaa8b63",
   "outputs": [
    {
     "data": {
      "text/plain": [
       "[{'title': 'Braveheart (1995)',\n",
       "  'genres': ['Action', 'Drama', 'War'],\n",
       "  'features_hot_encoded': array([1, 0, 0, 0, 0, 0, 0, 1, 0, 0, 0, 0, 0, 0, 0, 0, 0, 1, 0]),\n",
       "  'features_count': 3},\n",
       " {'title': 'Patton (1970)',\n",
       "  'genres': ['Drama', 'War'],\n",
       "  'features_hot_encoded': array([0, 0, 0, 0, 0, 0, 0, 1, 0, 0, 0, 0, 0, 0, 0, 0, 0, 1, 0]),\n",
       "  'features_count': 2},\n",
       " {'title': 'Shawshank Redemption, The (1994)',\n",
       "  'genres': ['Crime', 'Drama'],\n",
       "  'features_hot_encoded': array([0, 0, 0, 0, 0, 1, 0, 1, 0, 0, 0, 0, 0, 0, 0, 0, 0, 0, 0]),\n",
       "  'features_count': 2},\n",
       " {'title': 'Misérables, Les (1998)',\n",
       "  'genres': ['Crime', 'Drama', 'Romance', 'War'],\n",
       "  'features_hot_encoded': array([0, 0, 0, 0, 0, 1, 0, 1, 0, 0, 0, 0, 0, 0, 1, 0, 0, 1, 0]),\n",
       "  'features_count': 4},\n",
       " {'title': \"The Emperor's Club (2002)\",\n",
       "  'genres': ['Drama'],\n",
       "  'features_hot_encoded': array([0, 0, 0, 0, 0, 0, 0, 1, 0, 0, 0, 0, 0, 0, 0, 0, 0, 0, 0]),\n",
       "  'features_count': 1},\n",
       " {'title': \"Mr. Holland's Opus (1995)\",\n",
       "  'genres': ['Drama'],\n",
       "  'features_hot_encoded': array([0, 0, 0, 0, 0, 0, 0, 1, 0, 0, 0, 0, 0, 0, 0, 0, 0, 0, 0]),\n",
       "  'features_count': 1},\n",
       " {'title': 'Chariots of Fire (1981)',\n",
       "  'genres': ['Drama'],\n",
       "  'features_hot_encoded': array([0, 0, 0, 0, 0, 0, 0, 1, 0, 0, 0, 0, 0, 0, 0, 0, 0, 0, 0]),\n",
       "  'features_count': 1},\n",
       " {'title': 'Sense and Sensibility (1995)',\n",
       "  'genres': ['Drama', 'Romance'],\n",
       "  'features_hot_encoded': array([0, 0, 0, 0, 0, 0, 0, 1, 0, 0, 0, 0, 0, 0, 1, 0, 0, 0, 0]),\n",
       "  'features_count': 2},\n",
       " {'title': 'Importance of Being Earnest, The (2002)',\n",
       "  'genres': ['Comedy', 'Drama', 'Romance'],\n",
       "  'features_hot_encoded': array([0, 0, 0, 0, 1, 0, 0, 1, 0, 0, 0, 0, 0, 0, 1, 0, 0, 0, 0]),\n",
       "  'features_count': 3},\n",
       " {'title': 'Platoon (1986)',\n",
       "  'genres': ['Drama', 'War'],\n",
       "  'features_hot_encoded': array([0, 0, 0, 0, 0, 0, 0, 1, 0, 0, 0, 0, 0, 0, 0, 0, 0, 1, 0]),\n",
       "  'features_count': 2}]"
      ]
     },
     "execution_count": 11,
     "metadata": {},
     "output_type": "execute_result"
    }
   ],
   "execution_count": 11
  },
  {
   "metadata": {
    "ExecuteTime": {
     "end_time": "2025-01-11T03:33:54.144390Z",
     "start_time": "2025-01-11T03:33:54.132069Z"
    }
   },
   "cell_type": "code",
   "source": [
    "prediction_input = [(\"267654\", 4)]  # Harry Poter\n",
    "recommender.recommend(prediction_input)"
   ],
   "id": "89c74969cec15464",
   "outputs": [
    {
     "name": "stdout",
     "output_type": "stream",
     "text": [
      "2025-01-11 05:33:54,133 [ERROR] The provided user ratings data contains the following unknown item rating(s), skipping unknown items' ratings [('267654', 4)]\n"
     ]
    },
    {
     "data": {
      "text/plain": [
       "[{'title': 'Star Wars: Episode V - The Empire Strikes Back (1980)',\n",
       "  'genres': ['Action', 'Adventure', 'Sci-Fi'],\n",
       "  'features_hot_encoded': array([1, 1, 0, 0, 0, 0, 0, 0, 0, 0, 0, 0, 0, 0, 0, 1, 0, 0, 0]),\n",
       "  'features_count': 3},\n",
       " {'title': 'Patton (1970)',\n",
       "  'genres': ['Drama', 'War'],\n",
       "  'features_hot_encoded': array([0, 0, 0, 0, 0, 0, 0, 1, 0, 0, 0, 0, 0, 0, 0, 0, 0, 1, 0]),\n",
       "  'features_count': 2},\n",
       " {'title': 'Lion King, The (1994)',\n",
       "  'genres': ['Adventure', 'Animation', 'Children', 'Drama', 'Musical', 'IMAX'],\n",
       "  'features_hot_encoded': array([0, 1, 1, 1, 0, 0, 0, 1, 0, 0, 0, 1, 1, 0, 0, 0, 0, 0, 0]),\n",
       "  'features_count': 6},\n",
       " {'title': 'Serenity (2005)',\n",
       "  'genres': ['Action', 'Adventure', 'Sci-Fi'],\n",
       "  'features_hot_encoded': array([1, 1, 0, 0, 0, 0, 0, 0, 0, 0, 0, 0, 0, 0, 0, 1, 0, 0, 0]),\n",
       "  'features_count': 3},\n",
       " {'title': 'Ice Age (2002)',\n",
       "  'genres': ['Adventure', 'Animation', 'Children', 'Comedy'],\n",
       "  'features_hot_encoded': array([0, 1, 1, 1, 1, 0, 0, 0, 0, 0, 0, 0, 0, 0, 0, 0, 0, 0, 0]),\n",
       "  'features_count': 4},\n",
       " {'title': 'Fifth Element, The (1997)',\n",
       "  'genres': ['Action', 'Adventure', 'Comedy', 'Sci-Fi'],\n",
       "  'features_hot_encoded': array([1, 1, 0, 0, 1, 0, 0, 0, 0, 0, 0, 0, 0, 0, 0, 1, 0, 0, 0]),\n",
       "  'features_count': 4},\n",
       " {'title': 'Patriot, The (2000)',\n",
       "  'genres': ['Action', 'Drama', 'War'],\n",
       "  'features_hot_encoded': array([1, 0, 0, 0, 0, 0, 0, 1, 0, 0, 0, 0, 0, 0, 0, 0, 0, 1, 0]),\n",
       "  'features_count': 3},\n",
       " {'title': 'Aliens (1986)',\n",
       "  'genres': ['Action', 'Adventure', 'Horror', 'Sci-Fi'],\n",
       "  'features_hot_encoded': array([1, 1, 0, 0, 0, 0, 0, 0, 0, 0, 1, 0, 0, 0, 0, 1, 0, 0, 0]),\n",
       "  'features_count': 4},\n",
       " {'title': 'Kill Bill: Vol. 1 (2003)',\n",
       "  'genres': ['Action', 'Crime', 'Thriller'],\n",
       "  'features_hot_encoded': array([1, 0, 0, 0, 0, 1, 0, 0, 0, 0, 0, 0, 0, 0, 0, 0, 1, 0, 0]),\n",
       "  'features_count': 3},\n",
       " {'title': 'Rock, The (1996)',\n",
       "  'genres': ['Action', 'Adventure', 'Thriller'],\n",
       "  'features_hot_encoded': array([1, 1, 0, 0, 0, 0, 0, 0, 0, 0, 0, 0, 0, 0, 0, 0, 1, 0, 0]),\n",
       "  'features_count': 3}]"
      ]
     },
     "execution_count": 12,
     "metadata": {},
     "output_type": "execute_result"
    }
   ],
   "execution_count": 12
  },
  {
   "metadata": {
    "ExecuteTime": {
     "end_time": "2025-01-11T03:33:54.365732Z",
     "start_time": "2025-01-11T03:33:54.353668Z"
    }
   },
   "cell_type": "code",
   "source": [
    "#\n",
    "recommender.recommend()"
   ],
   "id": "1678940bb14ffeb2",
   "outputs": [
    {
     "data": {
      "text/plain": [
       "[{'title': 'Star Wars: Episode V - The Empire Strikes Back (1980)',\n",
       "  'genres': ['Action', 'Adventure', 'Sci-Fi'],\n",
       "  'features_hot_encoded': array([1, 1, 0, 0, 0, 0, 0, 0, 0, 0, 0, 0, 0, 0, 0, 1, 0, 0, 0]),\n",
       "  'features_count': 3},\n",
       " {'title': 'Patton (1970)',\n",
       "  'genres': ['Drama', 'War'],\n",
       "  'features_hot_encoded': array([0, 0, 0, 0, 0, 0, 0, 1, 0, 0, 0, 0, 0, 0, 0, 0, 0, 1, 0]),\n",
       "  'features_count': 2},\n",
       " {'title': 'Lion King, The (1994)',\n",
       "  'genres': ['Adventure', 'Animation', 'Children', 'Drama', 'Musical', 'IMAX'],\n",
       "  'features_hot_encoded': array([0, 1, 1, 1, 0, 0, 0, 1, 0, 0, 0, 1, 1, 0, 0, 0, 0, 0, 0]),\n",
       "  'features_count': 6},\n",
       " {'title': 'Serenity (2005)',\n",
       "  'genres': ['Action', 'Adventure', 'Sci-Fi'],\n",
       "  'features_hot_encoded': array([1, 1, 0, 0, 0, 0, 0, 0, 0, 0, 0, 0, 0, 0, 0, 1, 0, 0, 0]),\n",
       "  'features_count': 3},\n",
       " {'title': 'Ice Age (2002)',\n",
       "  'genres': ['Adventure', 'Animation', 'Children', 'Comedy'],\n",
       "  'features_hot_encoded': array([0, 1, 1, 1, 1, 0, 0, 0, 0, 0, 0, 0, 0, 0, 0, 0, 0, 0, 0]),\n",
       "  'features_count': 4},\n",
       " {'title': 'Fifth Element, The (1997)',\n",
       "  'genres': ['Action', 'Adventure', 'Comedy', 'Sci-Fi'],\n",
       "  'features_hot_encoded': array([1, 1, 0, 0, 1, 0, 0, 0, 0, 0, 0, 0, 0, 0, 0, 1, 0, 0, 0]),\n",
       "  'features_count': 4},\n",
       " {'title': 'Patriot, The (2000)',\n",
       "  'genres': ['Action', 'Drama', 'War'],\n",
       "  'features_hot_encoded': array([1, 0, 0, 0, 0, 0, 0, 1, 0, 0, 0, 0, 0, 0, 0, 0, 0, 1, 0]),\n",
       "  'features_count': 3},\n",
       " {'title': 'Aliens (1986)',\n",
       "  'genres': ['Action', 'Adventure', 'Horror', 'Sci-Fi'],\n",
       "  'features_hot_encoded': array([1, 1, 0, 0, 0, 0, 0, 0, 0, 0, 1, 0, 0, 0, 0, 1, 0, 0, 0]),\n",
       "  'features_count': 4},\n",
       " {'title': 'Kill Bill: Vol. 1 (2003)',\n",
       "  'genres': ['Action', 'Crime', 'Thriller'],\n",
       "  'features_hot_encoded': array([1, 0, 0, 0, 0, 1, 0, 0, 0, 0, 0, 0, 0, 0, 0, 0, 1, 0, 0]),\n",
       "  'features_count': 3},\n",
       " {'title': 'Rock, The (1996)',\n",
       "  'genres': ['Action', 'Adventure', 'Thriller'],\n",
       "  'features_hot_encoded': array([1, 1, 0, 0, 0, 0, 0, 0, 0, 0, 0, 0, 0, 0, 0, 0, 1, 0, 0]),\n",
       "  'features_count': 3}]"
      ]
     },
     "execution_count": 13,
     "metadata": {},
     "output_type": "execute_result"
    }
   ],
   "execution_count": 13
  },
  {
   "metadata": {
    "ExecuteTime": {
     "end_time": "2025-01-11T03:33:54.502538Z",
     "start_time": "2025-01-11T03:33:54.499495Z"
    }
   },
   "cell_type": "code",
   "source": "",
   "id": "298347782d68fe2f",
   "outputs": [],
   "execution_count": null
  }
 ],
 "metadata": {
  "kernelspec": {
   "display_name": "recommender-system-uSlwvUxw-py3.10",
   "language": "python",
   "name": "python3"
  },
  "language_info": {
   "codemirror_mode": {
    "name": "ipython",
    "version": 3
   },
   "file_extension": ".py",
   "mimetype": "text/x-python",
   "name": "python",
   "nbconvert_exporter": "python",
   "pygments_lexer": "ipython3",
   "version": "3.10.12"
  }
 },
 "nbformat": 4,
 "nbformat_minor": 5
}
