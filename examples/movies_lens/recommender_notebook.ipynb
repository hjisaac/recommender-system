{
 "cells": [
  {
   "metadata": {},
   "cell_type": "markdown",
   "source": "# MovieLens Recommender System Using Alternating Least Squares",
   "id": "2d84b6f34cd1216f"
  },
  {
   "metadata": {
    "ExecuteTime": {
     "end_time": "2025-01-17T18:22:52.645320Z",
     "start_time": "2025-01-17T18:22:51.942615Z"
    }
   },
   "cell_type": "code",
   "source": [
    "import pandas as pd\n",
    "from pprint import pprint\n",
    "\n",
    "from src.algorithms.alternating_least_squares import AlternatingLeastSquares\n",
    "from src.helpers.dataset_indexer import DatasetIndexer\n",
    "from src.helpers.checkpoint_manager import CheckpointManager\n",
    "from src.recommenders import CollaborativeFilteringRecommenderBuilder\n",
    "from src.backends import Backend\n",
    "from src.helpers._logging import logger  # noqa\n",
    "from src.settings import settings\n",
    "from src.utils import vocabulary_based_one_hot_encode\n"
   ],
   "id": "62134b61afd7077",
   "outputs": [],
   "execution_count": 1
  },
  {
   "metadata": {},
   "cell_type": "code",
   "outputs": [],
   "execution_count": null,
   "source": [
    "USER_HEADER = \"userId\"\n",
    "ITEM_HEADER = \"movieId\"\n",
    "RATING_HEADER = \"rating\"\n",
    "FEATURE_TO_ENCODE = \"genres\"\n",
    "\n",
    "# https://files.grouplens.org/datasets/movielens/ml-32m-README.html\n",
    "ITEM_FEATURE_LIST = [\n",
    "    \"Action\",\n",
    "    \"Adventure\",\n",
    "    \"Animation\",\n",
    "    \"Children\",\n",
    "    \"Comedy\",\n",
    "    \"Crime\",\n",
    "    \"Documentary\",\n",
    "    \"Drama\",\n",
    "    \"Fantasy\",\n",
    "    \"Film-Noir\",\n",
    "    \"Horror\",\n",
    "    \"IMAX\",\n",
    "    \"Musical\",\n",
    "    \"Mystery\",\n",
    "    \"Romance\",\n",
    "    \"Sci-Fi\",\n",
    "    \"Thriller\",\n",
    "    \"War\",\n",
    "    \"Western\",\n",
    "]\n"
   ],
   "id": "ffdb68bbdadb9956"
  },
  {
   "metadata": {
    "ExecuteTime": {
     "end_time": "2025-01-17T18:49:43.909450Z",
     "start_time": "2025-01-17T18:49:43.905051Z"
    }
   },
   "cell_type": "code",
   "source": "CSV_FILES_DIR = \"./ml-32m\" # The dataset subfolder\n",
   "id": "b26f024c6434c4e8",
   "outputs": [],
   "execution_count": 2
  },
  {
   "metadata": {},
   "cell_type": "code",
   "outputs": [],
   "execution_count": null,
   "source": [
    "\n",
    "# Import the movies csv file joined with the movie links csv file and that will act\n",
    "# as our movie database. The backend needs this database to query the movies.\n",
    "item_database = (\n",
    "    pd.read_csv(\"./ml-32m/movies.csv\", dtype={ITEM_HEADER: str})\n",
    "    .merge(\n",
    "        pd.read_csv(\"./ml-32m/links.csv\", dtype={ITEM_HEADER: str}),\n",
    "        on=ITEM_HEADER,\n",
    "        how=\"left\",\n",
    "    )\n",
    "    .assign(\n",
    "        genres=lambda df: df[FEATURE_TO_ENCODE].apply(\n",
    "            lambda genres: genres.split(\"|\")\n",
    "        ),\n",
    "        features_hot_encoded=lambda df: df[FEATURE_TO_ENCODE].apply(\n",
    "            lambda g: vocabulary_based_one_hot_encode(\n",
    "                words=g, vocabulary=ITEM_FEATURE_LIST\n",
    "            )\n",
    "        ),\n",
    "        features_count=lambda df: df[\"features_hot_encoded\"].apply(lambda x: sum(x)),\n",
    "    )\n",
    "    .set_index(ITEM_HEADER)  # Set the movieId as the index\n",
    "    .to_dict(orient=\"index\")  # Convert the DataFrame to a dictionary\n",
    ")"
   ],
   "id": "a26e4772002f9750"
  },
  {
   "metadata": {},
   "cell_type": "code",
   "outputs": [],
   "execution_count": null,
   "source": [
    "dataset_indexer = DatasetIndexer(\n",
    "    # Path to the ratings.csv file\n",
    "    file_path=f\"{CSV_FILES_DIR}/ratings.csv\",\n",
    "    user_header=USER_HEADER,\n",
    "    item_header=ITEM_HEADER,\n",
    "    rating_header=RATING_HEADER,\n",
    "    limit=settings.general.LINES_COUNT_TO_READ,\n",
    ")\n",
    "\n",
    "# Create an indexed dataset object\n",
    "indexed_data = dataset_indexer.index_simple(\n",
    "    approximate_train_ratio=settings.general.APPROXIMATE_TRAIN_RATIO\n",
    ")"
   ],
   "id": "80a4d78f92d86cb2"
  },
  {
   "metadata": {},
   "cell_type": "code",
   "outputs": [],
   "execution_count": null,
   "source": [
    "als_instance = AlternatingLeastSquares(\n",
    "    hyper_lambda=settings.als.HYPER_LAMBDA,\n",
    "    hyper_gamma=settings.als.HYPER_GAMMA,\n",
    "    hyper_tau=settings.als.HYPER_TAU,\n",
    "    hyper_n_epochs=settings.als.HYPER_N_EPOCH,\n",
    "    hyper_n_factors=settings.als.HYPER_N_FACTOR,\n",
    ")\n",
    "\n",
    "als_backend = Backend(\n",
    "    # Define the algorithm\n",
    "    algorithm=als_instance,\n",
    "    checkpoint_manager=CheckpointManager(\n",
    "        checkpoint_folder=settings.als.CHECKPOINT_FOLDER,\n",
    "        sub_folder=str(settings.general.LINES_COUNT_TO_READ),\n",
    "    ),\n",
    "    # The predictor needs this to render the name of the items\n",
    "    item_database=item_database,\n",
    "    # Whether we should resume by using the last state of\n",
    "    # the algorithm the checkpoint manager folder or not.\n",
    "    resume=False,\n",
    "    save_checkpoint=True,\n",
    ")\n"
   ],
   "id": "c8a932ec186bbaa1"
  },
  {
   "metadata": {},
   "cell_type": "code",
   "outputs": [],
   "execution_count": null,
   "source": [
    "recommender_builder = CollaborativeFilteringRecommenderBuilder(\n",
    "    backend=als_backend,\n",
    ")\n"
   ],
   "id": "df72f1e1b66de581"
  },
  {
   "metadata": {},
   "cell_type": "code",
   "outputs": [],
   "execution_count": null,
   "source": [
    "# This might take some moment before finishing\n",
    "# Here is where the model is actually trained\n",
    "recommender = recommender_builder.build(\n",
    "    data=indexed_data, \n",
    "    item_database=item_database, \n",
    "    # Whether to include feature functionality or not\n",
    "    include_features=True\n",
    ")"
   ],
   "id": "4a5845e6187485f"
  },
  {
   "metadata": {},
   "cell_type": "code",
   "outputs": [],
   "execution_count": null,
   "source": [
    "SENSE_AND_SENSIBILITY = \"17\"\n",
    "prediction_input = [(\"17\", 4)] # Sense and Sensibility (1995)"
   ],
   "id": "84f4abe12c8a233e"
  },
  {
   "metadata": {},
   "cell_type": "markdown",
   "source": "###  Recommendations\n",
   "id": "868de52b46297b33"
  },
  {
   "metadata": {
    "ExecuteTime": {
     "end_time": "2025-01-17T19:18:43.900713Z",
     "start_time": "2025-01-17T19:18:43.897046Z"
    }
   },
   "cell_type": "code",
   "source": [
    "HARRY_POTER = \"267654\"\n",
    "LORD_OF_THE_RING = \"279178\""
   ],
   "id": "375fefc9733f066",
   "outputs": [],
   "execution_count": 3
  },
  {
   "metadata": {
    "ExecuteTime": {
     "end_time": "2025-01-17T19:19:31.571419Z",
     "start_time": "2025-01-17T19:19:31.568102Z"
    }
   },
   "cell_type": "code",
   "source": "SENSE_AND_SENSIBILITY = \"17\"",
   "id": "90b677863c9f661c",
   "outputs": [],
   "execution_count": 4
  },
  {
   "metadata": {},
   "cell_type": "code",
   "outputs": [],
   "execution_count": null,
   "source": [
    "recommendations = recommender.recommend([(HARRY_POTER, 5)]) # [(MOVIE, RATING), ...]\n",
    "pprint(\"Recommendations for Harry Poter (5-stared):\")\n",
    "pprint(recommendations)"
   ],
   "id": "1a42b1eaf7a39e46"
  },
  {
   "metadata": {},
   "cell_type": "code",
   "outputs": [],
   "execution_count": null,
   "source": [
    "recommendations = recommender.recommend([(HARRY_POTER, 4)]) # [(MOVIE, RATING), ...]\n",
    "pprint(\"Recommendations for Harry Poter (4-stared):\")\n",
    "pprint(recommendations)\n",
    "\n",
    "recommendations = recommender.recommend([(HARRY_POTER, 4)]) # [(MOVIE, RATING), ...]\n",
    "pprint(\"Recommendations for Harry Poter (4-stared):\")\n",
    "pprint(recommendations)\n"
   ],
   "id": "80112526033b4b85"
  },
  {
   "metadata": {},
   "cell_type": "code",
   "outputs": [],
   "execution_count": null,
   "source": [
    "recommendations = recommender.recommend([(LORD_OF_THE_RING, 5)]) # [(MOVIE, RATING), ...]\n",
    "pprint(\"Recommendations for Lord of the Ring (5-stared):\")\n",
    "pprint(recommendations)"
   ],
   "id": "d5fc3bdac622d186"
  },
  {
   "metadata": {},
   "cell_type": "code",
   "outputs": [],
   "execution_count": null,
   "source": [
    "recommendations = recommender.recommend([(LORD_OF_THE_RING, 4)]) # [(MOVIE, RATING), ...]\n",
    "pprint(\"Recommendations for Lord of the Ring (4-stared):\")\n",
    "pprint(recommendations)"
   ],
   "id": "e97fbf0d276a684b"
  },
  {
   "metadata": {},
   "cell_type": "code",
   "outputs": [],
   "execution_count": null,
   "source": [
    "# Ideally, the recommendation should not contain many \"Lord of the Ring.\"\n",
    "recommendations = recommender.recommend([(LORD_OF_THE_RING, 3)]) # [(MOVIE, RATING), ...]\n",
    "pprint(\"Recommendations for Lord of the Ring (3-stared):\")\n",
    "pprint(recommendations)\n"
   ],
   "id": "86ec60095ff38ef3"
  },
  {
   "metadata": {},
   "cell_type": "code",
   "outputs": [],
   "execution_count": null,
   "source": [
    "# We should not recommend \"Lord of the Ring.\"\n",
    "recommendations = recommender.recommend([(LORD_OF_THE_RING, 2)]) # [(MOVIE, RATING), ...]\n",
    "pprint(\"Recommendations for Lord of the Ring (2-stared):\")\n",
    "pprint(recommendations)"
   ],
   "id": "95ca70abc283697"
  },
  {
   "metadata": {},
   "cell_type": "markdown",
   "source": [
    "| Sample size      | $\\beta$ | $\\lambda$ | $\\gamma$ | $\\tau$ | $k$  | Epochs | RMSE (Train/Test)        | Loss (Train/Test)                | Recommendations        |\n",
    "|------------------|---------|-----------|----------|--------|------|--------|--------------------------|----------------------------------|------------------------|\n",
    "| 1,000,000        | None    | 0.1       | 0.01     | 1      | 10   | 2      | 0.7099 / 3.7611          | -25429.85 / -110022.02          |                       |\n",
    "| 1,000,000        | None    | 0.1       | 0.01     | 1      | 10   | 30     | 0.7051 / 3.6837          | -25489.51 / -101857.60          |                       |\n",
    "| 1,000,000        | None    | 5         | 0.2      | 0.5    | 10   | 10     | 0.6398 / 0.9574          | -859437.82 / -497705.91         |                       |\n",
    "| 1,000,000        | None    | 0.5       | 0.01     | 0.4    | 10   | 20     | 0.6346 / 0.8799          | -87902.68 / -45921.60           |                       |\n",
    "| 1,000,000        | None    | 1         | 0.04     | 0.4    | 10   | 20     | 0.6302 / 0.9040          | -171394.80 / -94303.52          |                       |\n",
    "| 1,000,000        | None    | 0.5       | 0.1      | 0.1    | 10   | 20     | 0.6282 / 0.9213          | -90251.11 / -53596.05           |                       |\n",
    "| 1,000,000        | None    | 0.1       | 0.1      | 0.1    | 10   | 20     | 0.6387 / 0.8668          | -23797.73 / -15022.77           |                       |\n",
    "| 100,000,000,000  | None    | 0.1       | 0.01     | 1      | 10   | 2      | 0.7099 / 3.7611          | -25429.85 / -110022.02          |                       |\n",
    "| 100,000,000,000  | None    | 0.1       | 0.01     | 1      | 10   | 30     | 0.7051 / 3.6837          | -25489.51 / -101857.60          |                       |\n",
    "| 100,000,000,000  | None    | 5         | 0.2      | 0.5    | 10   | 10     | 0.6398 / 0.9574          | -859437.82 / -497705.91         |                       |\n",
    "| 100,000,000,000  | None    | 0.5       | 0.01     | 0.4    | 10   | 20     | 0.6346 / 0.8799          | -87902.68 / -45921.60           |                       |\n",
    "| 100,000,000,000  | None    | 1         | 0.04     | 0.4    | 10   | 20     | 0.6302 / 0.9040          | -171394.80 / -94303.52          |                       |\n",
    "| 100,000,000,000  | None    | 0.5       | 0.1      | 0.1    | 10   | 20     | 0.6282 / 0.9213          | -90251.11 / -53596.05           |                       |\n",
    "| 100,000,000,000  | None    | 0.1       | 0.1      | 0.1    | 10   | 20     | 0.6387 / 0.8668          | -23797.73 / -15022.77           |                       |\n"
   ],
   "id": "8c0961db1ed5897"
  },
  {
   "metadata": {},
   "cell_type": "markdown",
   "source": [
    "| Sample size | $\\beta$ | $\\lambda$ | $\\gamma$ | $\\tau$ | $k$ | RMSE (Train/Test) | Loss (Train/Test) | Recommendations |\n",
    "|-------------|---------|-----------|----------|--------|-----|-------------------|-------------------|-----------------|\n",
    "| 1.000.000   | None    |           |          |        |     | 0.866             |                   |                 |\n",
    "\n",
    "\n",
    "\n",
    "\n"
   ],
   "id": "e1fcc2dc8f8e12c"
  }
 ],
 "metadata": {
  "kernelspec": {
   "display_name": "Python 3",
   "language": "python",
   "name": "python3"
  },
  "language_info": {
   "codemirror_mode": {
    "name": "ipython",
    "version": 2
   },
   "file_extension": ".py",
   "mimetype": "text/x-python",
   "name": "python",
   "nbconvert_exporter": "python",
   "pygments_lexer": "ipython2",
   "version": "2.7.6"
  }
 },
 "nbformat": 4,
 "nbformat_minor": 5
}
